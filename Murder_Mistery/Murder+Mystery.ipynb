{
 "cells": [
  {
   "cell_type": "markdown",
   "metadata": {
    "pycharm": {}
   },
   "source": [
    "# Preamble: A Brand New Jay\n",
    "\n",
    "After an eventful season on season 8 of *A Brand New Jay*, the 3 remaining contestants were invited to Jay Stacksby's private island for the last three episodes. When the day of filming the finale came Mr. Stacksby was found with one of his Professional Series 8-inch Chef Knives plunged through his heart! After the initial investigation highlighted that the film crew all lived in a separate house on the other side of the island, it was concluded that only the three contestants were near enough to Stacksby in order to commit a crime. At the scene of the crime, a letter was left. Here are the contents of that letter:\n",
    "\n",
    "> You may call me heartless, a killer, a monster, a murderer, but I'm still NOTHING compared to the villian that Jay was. This whole contest was a sham, an elaborate plot to shame the contestants and feed Jay's massive, massive ego. SURE you think you know him! You've seen him smiling for the cameras, laughing, joking, telling stories, waving his money around like a prop but off camera he was a sinister beast, a cruel cruel taskmaster, he treated all of us like slaves, like cattle, like animals! Do you remember Lindsay, she was the first to go, he called her such horrible things that she cried all night, keeping up all up, crying, crying, and more crying, he broke her with his words. I miss my former cast members, all of them very much. And we had to live with him, live in his home, live in his power, deal with his crazy demands. AND FOR WHAT! DID YOU KNOW THAT THE PRIZE ISN'T REAL? He never intended to marry one of us! The carrot on the stick was gone, all that was left was stick, he told us last night that we were all a terrible terrible disappointment and none of us would ever amount to anything, and that regardless of who won the contest he would never speak to any of us again! It's definitely the things like this you can feel in your gut how wrong he is! Well I showed him, he got what he deserved all right, I showed him, I showed him the person I am! I wasn't going to be pushed around any longer, and I wasn't going to let him go on pretending that he was some saint when all he was was a sick sick twisted man who deserved every bit of what he got. The fans need to know, Jay Stacksby is a vile amalgamation of all things evil and bad and the world is a better place without him.\n",
    "\n",
    "Pretty sinister stuff! Luckily, in addition to this bold-faced admission, we have the introduction letters of the three contestants. Maybe there is a way to use this information to determine who the author of this murder letter is?\n",
    "\n",
    "Myrtle Beech's introduction letter:\n",
    "> Salutations. My name? Myrtle. Myrtle Beech. I am a woman of simple tastes. I enjoy reading, thinking, and doing my taxes. I entered this competition because I want a serious relationship. I want a commitment. The last man I dated was too whimsical. He wanted to go on dates that had no plan. No end goal. Sometimes we would just end up wandering the streets after dinner. He called it a \"walk\". A \"walk\" with no destination. Can you imagine? I like every action I take to have a measurable effect. When I see a movie, I like to walk away with insights that I did not have before. When I take a bike ride, there better be a worthy destination at the end of the bike path. Jay seems frivolous at times. This worries me. However, it is my staunch belief that one does not make and keep money without having a modicum of discipline. As such, I am hopeful. I will now list three things I cannot live without. Water. Emery boards. Dogs. Thank you for the opportunity to introduce myself. I look forward to the competition. \n",
    "\n",
    "Lily Trebuchet's introduction letter:\n",
    "> Hi, I'm Lily Trebuchet from East Egg, Long Island. I love cats, hiking, and curling up under a warm blanket with a book. So they gave this little questionnaire to use for our bios so lets get started. What are some of my least favorite household chores? Dishes, oh yes it's definitely the dishes, I just hate doing them, don't you? Who is your favorite actor and why? Hmm, that's a hard one, but I think recently I'll have to go with Michael B. Jordan, every bit of that man is handsome, HANDSOME! Do you remember seeing him shirtless? I can't believe what he does for the cameras! Okay okay next question, what is your perfect date? Well it starts with a nice dinner at a delicious but small restaurant, you know like one of those places where the owner is in the back and comes out to talk to you and ask you how your meal was. My favorite form of art? Another hard one, but I think I'll have to go with music, music you can feel in your whole body and it is electrifying and best of all, you can dance to it! Okay final question, let's see, What are three things you cannot live without? Well first off, my beautiful, beautiful cat Jerry, he is my heart and spirit animal. Second is pasta, definitely pasta, and the third I think is my family, I love all of them very much and they support me in everything I do. I know Jay Stacksby is a handsome man and all of us want to be the first to walk down the aisle with him, but I think he might truly be the one for me. Okay that's it for the bio, I hope you have fun watching the show! \n",
    "\n",
    "Gregg T Fishy's introduction letter:\n",
    "\n",
    "> A good day to you all, I am Gregg T Fishy, of the Fishy Enterprise fortune. I am 37 years young. An adventurous spirit and I've never lost my sense of childlike wonder. I do love to be in the backyard gardening and I have the most extraordinary time when I'm fishing. Fishing for what, you might ask? Why, fishing for compliments of course! I have a stunning pair of radiant blue eyes. They will pierce the soul of anyone who dare gaze upon my countenance. I quite enjoy going on long jaunts through garden paths and short walks through greenhouses. I hope that Jay will be as absolutely interesting as he appears on the television. I find that he has some of the most curious tastes in style and humor. When I'm out and about I quite enjoy hearing tales that instill in my heart of hearts the fascination that beguiles my every day life. Every fiber of my being scintillates and vascillates with extreme pleasure during one of these charming anecdotes and significantly pleases my beautiful personage. I cannot wait to enjoy being on A Brand New Jay. It certainly seems like a grand time to explore life and love."
   ]
  },
  {
   "cell_type": "markdown",
   "metadata": {
    "pycharm": {}
   },
   "source": [
    "## Saving The Different Examples as Variables\n",
    "\n",
    "First let's create variables to hold the text data in! Save the muder note as a string in a variable called `murder_note`. Save Lily Trebuchet's introduction into `lily_trebuchet_intro`. Save Myrtle Beech's introduction into `myrtle_beech_intro`. Save Gregg T Fishy's introduction into `gregg_t_fishy_intro`.\n"
   ]
  },
  {
   "cell_type": "code",
   "execution_count": 23,
   "metadata": {
    "pycharm": {
     "is_executing": false
    }
   },
   "outputs": [],
   "source": [
    "#Adding module regular expression (RE) used for def_prepare_text \n",
    "'''\n",
    "This Jupyter Notebook was created in PyCharm\n",
    "'''\n",
    "\n",
    "import re\n",
    "\n",
    "#Intros\n",
    "murder_note = \"You may call me heartless, a killer, a monster, a murderer, but I'm still NOTHING compared to the villian that Jay was. This whole contest was a sham, an elaborate plot to shame the contestants and feed Jay's massive, massive ego. SURE you think you know him! You've seen him smiling for the cameras, laughing, joking, telling stories, waving his money around like a prop but off camera he was a sinister beast, a cruel cruel taskmaster, he treated all of us like slaves, like cattle, like animals! Do you remember Lindsay, she was the first to go, he called her such horrible things that she cried all night, keeping up all up, crying, crying, and more crying, he broke her with his words. I miss my former cast members, all of them very much. And we had to live with him, live in his home, live in his power, deal with his crazy demands. AND FOR WHAT! DID YOU KNOW THAT THE PRIZE ISN'T REAL? He never intended to marry one of us! The carrot on the stick was gone, all that was left was stick, he told us last night that we were all a terrible terrible disappointment and none of us would ever amount to anything, and that regardless of who won the contest he would never speak to any of us again! It's definitely the things like this you can feel in your gut how wrong he is! Well I showed him, he got what he deserved all right, I showed him, I showed him the person I am! I wasn't going to be pushed around any longer, and I wasn't going to let him go on pretending that he was some saint when all he was was a sick sick twisted man who deserved every bit of what he got. The fans need to know, Jay Stacksby is a vile amalgamation of all things evil and bad and the world is a better place without him.\"\n",
    "myrtle_beech_intro = \"Salutations. My name? Myrtle. Myrtle Beech. I am a woman of simple tastes. I enjoy reading, thinking, and doing my taxes. I entered this competition because I want a serious relationship. I want a commitment. The last man I dated was too whimsical. He wanted to go on dates that had no plan. No end goal. Sometimes we would just end up wandering the streets after dinner. He called it a \\\"walk\\\". A \\\"walk\\\" with no destination. Can you imagine? I like every action I take to have a measurable effect. When I see a movie, I like to walk away with insights that I did not have before. When I take a bike ride, there better be a worthy destination at the end of the bike path. Jay seems frivolous at times. This worries me. However, it is my staunch belief that one does not make and keep money without having a modicum of discipline. As such, I am hopeful. I will now list three things I cannot live without. Water. Emery boards. Dogs. Thank you for the opportunity to introduce myself. I look forward to the competition.\"\n",
    "lily_trebuchet_intro = \"Hi, I'm Lily Trebuchet from East Egg, Long Island. I love cats, hiking, and curling up under a warm blanket with a book. So they gave this little questionnaire to use for our bios so lets get started. What are some of my least favorite household chores? Dishes, oh yes it's definitely the dishes, I just hate doing them, don't you? Who is your favorite actor and why? Hmm, that's a hard one, but I think recently I'll have to go with Michael B. Jordan, every bit of that man is handsome, HANDSOME! Do you remember seeing him shirtless? I can't believe what he does for the cameras! Okay okay next question, what is your perfect date? Well it starts with a nice dinner at a delicious but small restaurant, you know like one of those places where the owner is in the back and comes out to talk to you and ask you how your meal was. My favorite form of art? Another hard one, but I think I'll have to go with music, music you can feel in your whole body and it is electrifying and best of all, you can dance to it! Okay final question, let's see, What are three things you cannot live without? Well first off, my beautiful, beautiful cat Jerry, he is my heart and spirit animal. Second is pasta, definitely pasta, and the third I think is my family, I love all of them very much and they support me in everything I do. I know Jay Stacksby is a handsome man and all of us want to be the first to walk down the aisle with him, but I think he might truly be the one for me. Okay that's it for the bio, I hope you have fun watching the show!\"\n",
    "gregg_t_fishy_intro = \"A most good day to you all, I am Gregg T Fishy, of the Fishy Enterprise fortune. I am 37 years young, an adventurous spirit and I've never lost my sense of childlike wonder. I do love to be in the backyard gardening and I have the most extraordinary time when I'm fishing. Fishing for what, you might find yourself asking? Why, I happen to always be fishing for compliments of course! I have a stunning pair of radiant blue eyes that will pierce the soul of anyone who dare gaze upon my countenance. I quite enjoy going on long jaunts through garden paths and short walks through greenhouses. I hope that Jay will be as absolutely interesting as he appears on the television, I find that he has some of the most curious tastes in style and humor. When I'm out and about I quite enjoy hearing tales that instill in my heart of hearts the fascination that beguiles my every day life, every fiber of my being scintillates and vascillates with extreme pleasure during one of these charming anecdotes and significantly pleases my beautiful personage. I cannot wait to enjoy being on the television program A Jay To Remember, it certainly seems like a grand time to explore life and love.\"\n",
    "\n"
   ]
  },
  {
   "cell_type": "markdown",
   "metadata": {
    "pycharm": {}
   },
   "source": [
    "## The First Indicator: Sentence Length\n",
    "\n",
    "Perhaps some meaningful data can first be gleaned from these text examples if we measure how long the average sentence length is. Different authors have different patterns of written speech, so this could be very useful in tracking down the killer.\n",
    "\n",
    "Write a function `get_average_sentence_length` that takes some `text` as an argument. This function should return the average number of words in a sentence in the text.\n",
    "\n",
    "Hint (highlight this hint in order to reveal it): \n",
    "<font color=\"white\">Use your knowledge of _string methods_ to create a list of all of the sentences in a text, called **sentences_in_text**. \n",
    "Further break up each **sentences_in_text** into a list of words and save the _length_ of that list of words to a new list that contains all the sentence lengths, called **sentence_lengths**. Take the average of all of the sentence lengths by adding them all together and dividing by the number of sentences (which should be the same as the length of the **sentence_lengths**).\n",
    "\n",
    "Remember sentences can end with more than one kind of punctuation, you might find it easiest to use **.replace()** so you only have to split on one punctuation mark. Remember **.replace()** doesn't modify the string itself, it returns a new string!</font>"
   ]
  },
  {
   "cell_type": "code",
   "execution_count": 24,
   "metadata": {
    "pycharm": {
     "is_executing": false
    }
   },
   "outputs": [
    {
     "name": "stdout",
     "text": [
      "Sample\n15\n28\n19\n10\n"
     ],
     "output_type": "stream"
    }
   ],
   "source": [
    "##Calculate average sentence length\n",
    "def sentence_count(string):\n",
    "\n",
    "    #Clean the string\n",
    "    string_stripped = string.strip()\n",
    "    \n",
    "    sentence_count = 1\n",
    "    \n",
    "    #Calculate sentenc count by punctuation ! . ?\n",
    "    for punctuation in [\"!\", \".\", \"?\"]:\n",
    "        sentence_count += string_stripped.count(punctuation + \" \")\n",
    "    return sentence_count\n",
    "\n",
    "def get_average_sentence_length_by_characters(string):\n",
    "    #Strip leading and trailing whitespaces\n",
    "    string_stripped = string.strip()\n",
    "    #Divide the total text length with the total number of sentences\n",
    "    return len(string_stripped) / sentence_count(string_stripped)\n",
    "\n",
    "def get_average_sentence_length(string):\n",
    "    #Clean the string again\n",
    "    string_stripped = string.strip()\n",
    "\n",
    "    #Calculate the total words\n",
    "    word_count = len(string_stripped.split(\" \"))\n",
    "\n",
    "    #Calculate the average word count per sentence by dividing total word count / the number of sentences.\n",
    "    return word_count / sentence_count(string_stripped)\n",
    "\n",
    "#Output \n",
    "print(\"Sample\")\n",
    "print(sentence_count(murder_note))\n",
    "print(sentence_count(myrtle_beech_intro))\n",
    "print(sentence_count(lily_trebuchet_intro))\n",
    "print(sentence_count(gregg_t_fishy_intro))\n"
   ]
  },
  {
   "cell_type": "markdown",
   "metadata": {
    "pycharm": {}
   },
   "source": [
    "## Creating The Definition for Our Model\n",
    "\n",
    "Now that we have a metric we want to save and data that is coupled with that metric, it might be time to create our data type. Let's define a class called `TextSample` with a constructor. The constructor should take two arguments: `text` and `author`. `text` should be saved as `self.raw_text`. Call `get_average_sentence_length` with the raw text and save it to `self.average_sentence_length`. You should save the author of the text as `self.author`.\n",
    "\n",
    "Additionally, define a string representation for the model. If you print a `TextSample` it should render:\n",
    " - The author's name\n",
    " - The average sentence length\n",
    " \n",
    "This will be your main class for the problem at hand. All later instruction to update `TextSample` should be done in the code block below. After updating `TextSample`, click on the `Cell` option in the Jupyter Notebook main menu above, then click `Run All` to rerun the cells from top to bottom. If you need to restart your Jupyter Notebook either run the cells below first or move the `TextSample` class definition & instantiation cells to the bottom."
   ]
  },
  {
   "cell_type": "code",
   "execution_count": 25,
   "metadata": {
    "pycharm": {
     "is_executing": false
    }
   },
   "outputs": [],
   "source": [
    "\n",
    "#Create the textsample class as the main class for this project\n",
    "class TextSample:\n",
    "    def __init__(self, string, author):\n",
    "        self.raw_string = string\n",
    "        self.prepared_string = prepare_text(string)\n",
    "        self.average_sentence_length = get_average_sentence_length(string)\n",
    "        self.average_sentence_length_by_characters = get_average_sentence_length_by_characters(string)\n",
    "        self.word_count_frequency = build_frequency_table(self.prepared_string)\n",
    "        self.ngram_frequency = build_frequency_table(ngram_creator(self.prepared_string))\n",
    "        self.author = author\n",
    "    def __repr__(self):\n",
    "        return \"Author: {author}\\nAverage Sentence Length: {average_sentence_length}\\n\".format(author=self.author, average_sentence_length=self.average_sentence_length)"
   ]
  },
  {
   "cell_type": "markdown",
   "metadata": {
    "pycharm": {}
   },
   "source": [
    "### Creating our TextSample Instances\n",
    "\n",
    "Now create a `TextSample` object for each of the samples of text that we have.\n",
    " - `murderer_sample` for the murderer's note.\n",
    " - `lily_sample` for Lily Trebuchet's note.\n",
    " - `myrtle_sample` for Myrtle Beech's note.\n",
    " - `gregg_sample` for Gregg T Fishy's note.\n",
    " \n",
    "Print out each one after instantiating them."
   ]
  },
  {
   "cell_type": "code",
   "execution_count": 26,
   "metadata": {
    "pycharm": {
     "is_executing": false
    }
   },
   "outputs": [
    {
     "name": "stdout",
     "text": [
      "Author: Murder Note\nAverage Sentence Length: 22.066666666666666\n\nAuthor: Myrtle Beech\nAverage Sentence Length: 6.75\n\nAuthor: Lily Trebuchet\nAverage Sentence Length: 15.842105263157896\n\nAuthor: Gregg T Fishy\nAverage Sentence Length: 21.3\n\n"
     ],
     "output_type": "stream"
    }
   ],
   "source": [
    "\n",
    "#Creating text sample objects\n",
    "murderer_sample = TextSample(murder_note, \"Murder Note\")\n",
    "lily_sample = TextSample(myrtle_beech_intro, \"Myrtle Beech\")\n",
    "myrtle_sample = TextSample(lily_trebuchet_intro, \"Lily Trebuchet\")\n",
    "gregg_sample = TextSample(gregg_t_fishy_intro, \"Gregg T Fishy\")\n",
    "\n",
    "#Output\n",
    "print(murderer_sample)\n",
    "print(lily_sample)\n",
    "print(myrtle_sample)\n",
    "print(gregg_sample)\n"
   ]
  },
  {
   "cell_type": "markdown",
   "metadata": {
    "pycharm": {}
   },
   "source": [
    "## Cleaning Our Data\n",
    "\n",
    "We want to compare the word choice and usage between the samples, but sentences make our text data fairly messy. In order to analyze the different messages fairly, we'll need to remove all the punctuation and uppercase letters from the samples.\n",
    "\n",
    "Create a function called `prepare_text` that takes a single parameter `text`, makes the text entirely lowercase, removes all the punctuation and returns a list of the words in the text in order.\n",
    "\n",
    "For example: `\"Where did you go, friend? We nearly saw each other.\"` would become `['where', 'did', 'you', 'go', 'friend', 'we', 'nearly', 'saw', 'each', 'other']`."
   ]
  },
  {
   "cell_type": "code",
   "execution_count": 27,
   "metadata": {
    "pycharm": {
     "is_executing": false
    }
   },
   "outputs": [
    {
     "name": "stdout",
     "text": [
      "Sample\n['you', 'may', 'call', 'me', 'heartless', 'a', 'killer', 'a', 'monster', 'a', 'murderer', 'but', 'im', 'still', 'nothing', 'compared', 'to', 'the', 'villian', 'that', 'jay', 'was', 'this', 'whole', 'contest', 'was', 'a', 'sham', 'an', 'elaborate', 'plot', 'to', 'shame', 'the', 'contestants', 'and', 'feed', 'jays', 'massive', 'massive', 'ego', 'sure', 'you', 'think', 'you', 'know', 'him', 'youve', 'seen', 'him', 'smiling', 'for', 'the', 'cameras', 'laughing', 'joking', 'telling', 'stories', 'waving', 'his', 'money', 'around', 'like', 'a', 'prop', 'but', 'off', 'camera', 'he', 'was', 'a', 'sinister', 'beast', 'a', 'cruel', 'cruel', 'taskmaster', 'he', 'treated', 'all', 'of', 'us', 'like', 'slaves', 'like', 'cattle', 'like', 'animals', 'do', 'you', 'remember', 'lindsay', 'she', 'was', 'the', 'first', 'to', 'go', 'he', 'called', 'her', 'such', 'horrible', 'things', 'that', 'she', 'cried', 'all', 'night', 'keeping', 'up', 'all', 'up', 'crying', 'crying', 'and', 'more', 'crying', 'he', 'broke', 'her', 'with', 'his', 'words', 'i', 'miss', 'my', 'former', 'cast', 'members', 'all', 'of', 'them', 'very', 'much', 'and', 'we', 'had', 'to', 'live', 'with', 'him', 'live', 'in', 'his', 'home', 'live', 'in', 'his', 'power', 'deal', 'with', 'his', 'crazy', 'demands', 'and', 'for', 'what', 'did', 'you', 'know', 'that', 'the', 'prize', 'isnt', 'real', 'he', 'never', 'intended', 'to', 'marry', 'one', 'of', 'us', 'the', 'carrot', 'on', 'the', 'stick', 'was', 'gone', 'all', 'that', 'was', 'left', 'was', 'stick', 'he', 'told', 'us', 'last', 'night', 'that', 'we', 'were', 'all', 'a', 'terrible', 'terrible', 'disappointment', 'and', 'none', 'of', 'us', 'would', 'ever', 'amount', 'to', 'anything', 'and', 'that', 'regardless', 'of', 'who', 'won', 'the', 'contest', 'he', 'would', 'never', 'speak', 'to', 'any', 'of', 'us', 'again', 'its', 'definitely', 'the', 'things', 'like', 'this', 'you', 'can', 'feel', 'in', 'your', 'gut', 'how', 'wrong', 'he', 'is', 'well', 'i', 'showed', 'him', 'he', 'got', 'what', 'he', 'deserved', 'all', 'right', 'i', 'showed', 'him', 'i', 'showed', 'him', 'the', 'person', 'i', 'am', 'i', 'wasnt', 'going', 'to', 'be', 'pushed', 'around', 'any', 'longer', 'and', 'i', 'wasnt', 'going', 'to', 'let', 'him', 'go', 'on', 'pretending', 'that', 'he', 'was', 'some', 'saint', 'when', 'all', 'he', 'was', 'was', 'a', 'sick', 'sick', 'twisted', 'man', 'who', 'deserved', 'every', 'bit', 'of', 'what', 'he', 'got', 'the', 'fans', 'need', 'to', 'know', 'jay', 'stacksby', 'is', 'a', 'vile', 'amalgamation', 'of', 'all', 'things', 'evil', 'and', 'bad', 'and', 'the', 'world', 'is', 'a', 'better', 'place', 'without', 'him']\n['you', 'may', 'call', 'me', 'heartless', 'a', 'killer', 'a', 'monster', 'a', 'murderer', 'but', 'im', 'still', 'nothing', 'compared', 'to', 'the', 'villian', 'that', 'jay', 'was', 'this', 'whole', 'contest', 'was', 'a', 'sham', 'an', 'elaborate', 'plot', 'to', 'shame', 'the', 'contestants', 'and', 'feed', 'jays', 'massive', 'massive', 'ego', 'sure', 'you', 'think', 'you', 'know', 'him', 'youve', 'seen', 'him', 'smiling', 'for', 'the', 'cameras', 'laughing', 'joking', 'telling', 'stories', 'waving', 'his', 'money', 'around', 'like', 'a', 'prop', 'but', 'off', 'camera', 'he', 'was', 'a', 'sinister', 'beast', 'a', 'cruel', 'cruel', 'taskmaster', 'he', 'treated', 'all', 'of', 'us', 'like', 'slaves', 'like', 'cattle', 'like', 'animals', 'do', 'you', 'remember', 'lindsay', 'she', 'was', 'the', 'first', 'to', 'go', 'he', 'called', 'her', 'such', 'horrible', 'things', 'that', 'she', 'cried', 'all', 'night', 'keeping', 'up', 'all', 'up', 'crying', 'crying', 'and', 'more', 'crying', 'he', 'broke', 'her', 'with', 'his', 'words', 'i', 'miss', 'my', 'former', 'cast', 'members', 'all', 'of', 'them', 'very', 'much', 'and', 'we', 'had', 'to', 'live', 'with', 'him', 'live', 'in', 'his', 'home', 'live', 'in', 'his', 'power', 'deal', 'with', 'his', 'crazy', 'demands', 'and', 'for', 'what', 'did', 'you', 'know', 'that', 'the', 'prize', 'isnt', 'real', 'he', 'never', 'intended', 'to', 'marry', 'one', 'of', 'us', 'the', 'carrot', 'on', 'the', 'stick', 'was', 'gone', 'all', 'that', 'was', 'left', 'was', 'stick', 'he', 'told', 'us', 'last', 'night', 'that', 'we', 'were', 'all', 'a', 'terrible', 'terrible', 'disappointment', 'and', 'none', 'of', 'us', 'would', 'ever', 'amount', 'to', 'anything', 'and', 'that', 'regardless', 'of', 'who', 'won', 'the', 'contest', 'he', 'would', 'never', 'speak', 'to', 'any', 'of', 'us', 'again', 'its', 'definitely', 'the', 'things', 'like', 'this', 'you', 'can', 'feel', 'in', 'your', 'gut', 'how', 'wrong', 'he', 'is', 'well', 'i', 'showed', 'him', 'he', 'got', 'what', 'he', 'deserved', 'all', 'right', 'i', 'showed', 'him', 'i', 'showed', 'him', 'the', 'person', 'i', 'am', 'i', 'wasnt', 'going', 'to', 'be', 'pushed', 'around', 'any', 'longer', 'and', 'i', 'wasnt', 'going', 'to', 'let', 'him', 'go', 'on', 'pretending', 'that', 'he', 'was', 'some', 'saint', 'when', 'all', 'he', 'was', 'was', 'a', 'sick', 'sick', 'twisted', 'man', 'who', 'deserved', 'every', 'bit', 'of', 'what', 'he', 'got', 'the', 'fans', 'need', 'to', 'know', 'jay', 'stacksby', 'is', 'a', 'vile', 'amalgamation', 'of', 'all', 'things', 'evil', 'and', 'bad', 'and', 'the', 'world', 'is', 'a', 'better', 'place', 'without', 'him']\n"
     ],
     "output_type": "stream"
    }
   ],
   "source": [
    "\n",
    "#Function for string cleaning \n",
    "def prepare_text(string):\n",
    "    #Clean all punctuatons out of the string\n",
    "    clean_string = re.sub('[^a-zA-Z0-9_ ]', '', string)\n",
    "    \n",
    "    #Change all character to lowercase\n",
    "    clean_string = clean_string.lower()\n",
    "    \n",
    "    #Return the string as text list in order\n",
    "    return clean_string.split()\n",
    "\n",
    "#Output\n",
    "print(\"Sample\")\n",
    "print(prepare_text(murder_note))\n",
    "print(murderer_sample.prepared_string)\n"
   ]
  },
  {
   "cell_type": "markdown",
   "metadata": {
    "pycharm": {}
   },
   "source": [
    "Update the constructor for `TextSample` to save the prepared text as `self.prepared_text`."
   ]
  },
  {
   "cell_type": "markdown",
   "metadata": {
    "pycharm": {}
   },
   "source": [
    "## Building A Frequency Table\n",
    "\n",
    "Now we want to see which words were most frequently used in each of the samples. Create a function called `build_frequency_table`. It takes in a list called `corpus` and creates a dictionary called `frequency_table`. For every element in `corpus` the value `frequency_table[element]` should be equal to the number of times that element appears in `corpus`. For example the input `['do', 'you', 'see', 'what', 'i', 'see']` would create the frequency table `{'what': 1, 'you': 1, 'see' 2, 'i': 1}`."
   ]
  },
  {
   "cell_type": "code",
   "execution_count": 28,
   "metadata": {
    "pycharm": {
     "is_executing": false
    }
   },
   "outputs": [
    {
     "name": "stdout",
     "text": [
      "Sample\n{'you': 6, 'may': 1, 'call': 1, 'me': 1, 'heartless': 1, 'a': 11, 'killer': 1, 'monster': 1, 'murderer': 1, 'but': 2, 'im': 1, 'still': 1, 'nothing': 1, 'compared': 1, 'to': 10, 'the': 12, 'villian': 1, 'that': 7, 'jay': 2, 'was': 10, 'this': 2, 'whole': 1, 'contest': 2, 'sham': 1, 'an': 1, 'elaborate': 1, 'plot': 1, 'shame': 1, 'contestants': 1, 'and': 9, 'feed': 1, 'jays': 1, 'massive': 2, 'ego': 1, 'sure': 1, 'think': 1, 'know': 3, 'him': 8, 'youve': 1, 'seen': 1, 'smiling': 1, 'for': 2, 'cameras': 1, 'laughing': 1, 'joking': 1, 'telling': 1, 'stories': 1, 'waving': 1, 'his': 5, 'money': 1, 'around': 2, 'like': 5, 'prop': 1, 'off': 1, 'camera': 1, 'he': 13, 'sinister': 1, 'beast': 1, 'cruel': 2, 'taskmaster': 1, 'treated': 1, 'all': 9, 'of': 8, 'us': 5, 'slaves': 1, 'cattle': 1, 'animals': 1, 'do': 1, 'remember': 1, 'lindsay': 1, 'she': 2, 'first': 1, 'go': 2, 'called': 1, 'her': 2, 'such': 1, 'horrible': 1, 'things': 3, 'cried': 1, 'night': 2, 'keeping': 1, 'up': 2, 'crying': 3, 'more': 1, 'broke': 1, 'with': 3, 'words': 1, 'i': 7, 'miss': 1, 'my': 1, 'former': 1, 'cast': 1, 'members': 1, 'them': 1, 'very': 1, 'much': 1, 'we': 2, 'had': 1, 'live': 3, 'in': 3, 'home': 1, 'power': 1, 'deal': 1, 'crazy': 1, 'demands': 1, 'what': 3, 'did': 1, 'prize': 1, 'isnt': 1, 'real': 1, 'never': 2, 'intended': 1, 'marry': 1, 'one': 1, 'carrot': 1, 'on': 2, 'stick': 2, 'gone': 1, 'left': 1, 'told': 1, 'last': 1, 'were': 1, 'terrible': 2, 'disappointment': 1, 'none': 1, 'would': 2, 'ever': 1, 'amount': 1, 'anything': 1, 'regardless': 1, 'who': 2, 'won': 1, 'speak': 1, 'any': 2, 'again': 1, 'its': 1, 'definitely': 1, 'can': 1, 'feel': 1, 'your': 1, 'gut': 1, 'how': 1, 'wrong': 1, 'is': 3, 'well': 1, 'showed': 3, 'got': 2, 'deserved': 2, 'right': 1, 'person': 1, 'am': 1, 'wasnt': 2, 'going': 2, 'be': 1, 'pushed': 1, 'longer': 1, 'let': 1, 'pretending': 1, 'some': 1, 'saint': 1, 'when': 1, 'sick': 2, 'twisted': 1, 'man': 1, 'every': 1, 'bit': 1, 'fans': 1, 'need': 1, 'stacksby': 1, 'vile': 1, 'amalgamation': 1, 'evil': 1, 'bad': 1, 'world': 1, 'better': 1, 'place': 1, 'without': 1}\n"
     ],
     "output_type": "stream"
    }
   ],
   "source": [
    "#Main class was updated see above\n",
    "\n",
    "#Create the function for calculationg the most frequently used words\n",
    "def build_frequency_table(corpus):\n",
    "    frequency_table = {}\n",
    "    \n",
    "    #Compare each element of corpus for existence in ferequency_table witch adds or increments the elements value. \n",
    "    for element in corpus:\n",
    "        if frequency_table.get(element):\n",
    "            frequency_table[element] += 1\n",
    "        else:\n",
    "            frequency_table[element] = 1\n",
    "    \n",
    "    return frequency_table\n",
    "\n",
    "#Output\n",
    "print(\"Sample\")\n",
    "print(build_frequency_table(murderer_sample.prepared_string))\n"
   ]
  },
  {
   "cell_type": "markdown",
   "metadata": {
    "pycharm": {}
   },
   "source": [
    "## The Second Indicator: Favorite Words\n",
    "\n",
    "Use `build_frequency_table` with the prepared text to create a frequency table that counts how frequently all the words in each text sample appears. Call these functions in the constructor for `TextSample` and assign the word frequency table to a value called `self.word_count_frequency`."
   ]
  },
  {
   "cell_type": "markdown",
   "metadata": {
    "pycharm": {}
   },
   "source": [
    "## The Third Indicator: N-Grams\n",
    "\n",
    "An <a href='https://en.wikipedia.org/wiki/N-gram' target=\"_blank\">n-gram</a> is a text analysis technique used for pattern recognition and applicable throughout lingusitics. We're going to use n-grams to find who uses similar word-pairs to the murderer, and we think it's going to make our evidence strong enough to conclusively find the killer.\n",
    "\n",
    "Create a function called `ngram_creator` that takes a parameter `text_list`, a treated in-order list of the words in a text sample. `ngram_creator` should return a list of all adjacent pairs of words, styled as strings with a space in the center.\n",
    "\n",
    "For instance, calling `ngram_creator` with the input `['what', 'in', 'the', 'world', 'is', 'going', 'on']`\n",
    "Should produce the output `['what in', 'in the', 'the world', 'world is', 'is going', 'going on']`.\n",
    "\n",
    "These are two-word n-grams."
   ]
  },
  {
   "cell_type": "code",
   "execution_count": 29,
   "metadata": {
    "pycharm": {
     "is_executing": false
    }
   },
   "outputs": [
    {
     "name": "stdout",
     "text": [
      "Sample\n['what in', 'in the', 'the world', 'world is', 'is going', 'going on']\n['you may', 'may call', 'call me', 'me heartless', 'heartless a', 'a killer', 'killer a', 'a monster', 'monster a', 'a murderer', 'murderer but', 'but im', 'im still', 'still nothing', 'nothing compared', 'compared to', 'to the', 'the villian', 'villian that', 'that jay', 'jay was', 'was this', 'this whole', 'whole contest', 'contest was', 'was a', 'a sham', 'sham an', 'an elaborate', 'elaborate plot', 'plot to', 'to shame', 'shame the', 'the contestants', 'contestants and', 'and feed', 'feed jays', 'jays massive', 'massive massive', 'massive ego', 'ego sure', 'sure you', 'you think', 'think you', 'you know', 'know him', 'him youve', 'youve seen', 'seen him', 'him smiling', 'smiling for', 'for the', 'the cameras', 'cameras laughing', 'laughing joking', 'joking telling', 'telling stories', 'stories waving', 'waving his', 'his money', 'money around', 'around like', 'like a', 'a prop', 'prop but', 'but off', 'off camera', 'camera he', 'he was', 'was a', 'a sinister', 'sinister beast', 'beast a', 'a cruel', 'cruel cruel', 'cruel taskmaster', 'taskmaster he', 'he treated', 'treated all', 'all of', 'of us', 'us like', 'like slaves', 'slaves like', 'like cattle', 'cattle like', 'like animals', 'animals do', 'do you', 'you remember', 'remember lindsay', 'lindsay she', 'she was', 'was the', 'the first', 'first to', 'to go', 'go he', 'he called', 'called her', 'her such', 'such horrible', 'horrible things', 'things that', 'that she', 'she cried', 'cried all', 'all night', 'night keeping', 'keeping up', 'up all', 'all up', 'up crying', 'crying crying', 'crying and', 'and more', 'more crying', 'crying he', 'he broke', 'broke her', 'her with', 'with his', 'his words', 'words i', 'i miss', 'miss my', 'my former', 'former cast', 'cast members', 'members all', 'all of', 'of them', 'them very', 'very much', 'much and', 'and we', 'we had', 'had to', 'to live', 'live with', 'with him', 'him live', 'live in', 'in his', 'his home', 'home live', 'live in', 'in his', 'his power', 'power deal', 'deal with', 'with his', 'his crazy', 'crazy demands', 'demands and', 'and for', 'for what', 'what did', 'did you', 'you know', 'know that', 'that the', 'the prize', 'prize isnt', 'isnt real', 'real he', 'he never', 'never intended', 'intended to', 'to marry', 'marry one', 'one of', 'of us', 'us the', 'the carrot', 'carrot on', 'on the', 'the stick', 'stick was', 'was gone', 'gone all', 'all that', 'that was', 'was left', 'left was', 'was stick', 'stick he', 'he told', 'told us', 'us last', 'last night', 'night that', 'that we', 'we were', 'were all', 'all a', 'a terrible', 'terrible terrible', 'terrible disappointment', 'disappointment and', 'and none', 'none of', 'of us', 'us would', 'would ever', 'ever amount', 'amount to', 'to anything', 'anything and', 'and that', 'that regardless', 'regardless of', 'of who', 'who won', 'won the', 'the contest', 'contest he', 'he would', 'would never', 'never speak', 'speak to', 'to any', 'any of', 'of us', 'us again', 'again its', 'its definitely', 'definitely the', 'the things', 'things like', 'like this', 'this you', 'you can', 'can feel', 'feel in', 'in your', 'your gut', 'gut how', 'how wrong', 'wrong he', 'he is', 'is well', 'well i', 'i showed', 'showed him', 'him he', 'he got', 'got what', 'what he', 'he deserved', 'deserved all', 'all right', 'right i', 'i showed', 'showed him', 'him i', 'i showed', 'showed him', 'him the', 'the person', 'person i', 'i am', 'am i', 'i wasnt', 'wasnt going', 'going to', 'to be', 'be pushed', 'pushed around', 'around any', 'any longer', 'longer and', 'and i', 'i wasnt', 'wasnt going', 'going to', 'to let', 'let him', 'him go', 'go on', 'on pretending', 'pretending that', 'that he', 'he was', 'was some', 'some saint', 'saint when', 'when all', 'all he', 'he was', 'was was', 'was a', 'a sick', 'sick sick', 'sick twisted', 'twisted man', 'man who', 'who deserved', 'deserved every', 'every bit', 'bit of', 'of what', 'what he', 'he got', 'got the', 'the fans', 'fans need', 'need to', 'to know', 'know jay', 'jay stacksby', 'stacksby is', 'is a', 'a vile', 'vile amalgamation', 'amalgamation of', 'of all', 'all things', 'things evil', 'evil and', 'and bad', 'bad and', 'and the', 'the world', 'world is', 'is a', 'a better', 'better place', 'place without', 'without him']\n"
     ],
     "output_type": "stream"
    }
   ],
   "source": [
    "\n",
    "#Create a new function for ngrams\n",
    "def ngram_creator(string_list):\n",
    "    #Create a new empty list to store the list of ngrams\n",
    "    ngram_list = []\n",
    "    \n",
    "    #Go through the string_list to get string_list[i] and string_list[i+1] and append both as an element in ngram_list. The index has to end one word short, because the last word in string_list has no following words. \n",
    "    for i in range(len(string_list) - 1):\n",
    "        ngram_list.append(\"{element} {next_element}\".format(element=string_list[i], next_element=string_list[i+1]))\n",
    "        \n",
    "    return ngram_list\n",
    "\n",
    "#Output\n",
    "print(\"Sample\")\n",
    "print(ngram_creator(['what', 'in', 'the', 'world', 'is', 'going', 'on']))\n",
    "print(ngram_creator(murderer_sample.prepared_string))\n",
    "\n"
   ]
  },
  {
   "cell_type": "markdown",
   "metadata": {
    "pycharm": {}
   },
   "source": [
    "Use `ngram_creator` along with the prepared text to create a list of all the two-word ngrams in each `TextSample`. Use `build_frequency_table` to tabulate the frequency of each ngram. In the constructor for `TextSample` save this frequency table as `self.ngram_frequency`."
   ]
  },
  {
   "cell_type": "markdown",
   "metadata": {
    "pycharm": {}
   },
   "source": [
    "## Comparing Two Frequency Tables\n",
    "\n",
    "We want to know how similar two frequency tables are, let's write a function that computes the comparison between two frequency tables and scores them based on similarity.\n",
    "\n",
    "Write a function called `frequency_comparison` that takes two parameters, `table1` and `table2`. It should define two local variables, `appearances` and `mutual_appearances`. \n",
    "\n",
    "Iterate through `table1`'s keys and check if `table2` has the same key defined. If it is, compare the two values for the key -- the smaller value should get added to `mutual_appearances` and the larger should get added to `appearances`. If the key doesn't exist in `table2` the value for the key in `table1` should be added to `appearances`.\n",
    "\n",
    "Remember afterwards to iterate through all of `table2`'s keys that aren't in `table1` and add those to `appearances` as well.\n",
    "\n",
    "Return a frequency comparison score equal to the mutual appearances divided by the total appearances."
   ]
  },
  {
   "cell_type": "code",
   "execution_count": 30,
   "metadata": {
    "pycharm": {
     "is_executing": false
    }
   },
   "outputs": [],
   "source": [
    "\n",
    "#Create a new function for frequency calculation \n",
    "def frequency_comparison(table1, table2):\n",
    "    \n",
    "    #Set initial value to 0. (Number of unique engrams from both tables.\n",
    "    appearances = 0\n",
    "    \n",
    "    #Set initial value to 0. (Number of mutual engrams from both tables.\n",
    "    mutual_appearances = 0\n",
    "\n",
    "    '''\n",
    "    Go trough each table key of table1 and check if it exists in table2.\n",
    "        For each mutual key\n",
    "            Add the smaller value to mutual_appearances\n",
    "            Add the larger value to appearances\n",
    "        If not mutual \n",
    "            Add the value from table1 to appearances \n",
    "    '''\n",
    "    for ngram in table1:\n",
    "        v1 = table1.get(ngram)\n",
    "        v2 = table2.get(ngram)\n",
    "\n",
    "        if v2:\n",
    "            mutual_appearances += min(v1, v2)\n",
    "            appearances += max(v1, v2)\n",
    "        else:\n",
    "            appearances += v1\n",
    "            \n",
    "    '''\n",
    "     Go trough each table key of table2 and check if it exists in table1.\n",
    "        For each mutual key\n",
    "            Ignore mutual keys, thy were already counted\n",
    "        If not mutual \n",
    "            Add the value from table2 to appearances\n",
    "    '''\n",
    "    for ngram in table2.keys():\n",
    "        v1 = table1.get(ngram)\n",
    "        v2 = table2.get(ngram)\n",
    "\n",
    "        if not v1:\n",
    "            appearances += v2\n",
    "\n",
    "    #Return the score\n",
    "    return mutual_appearances / appearances\n"
   ]
  },
  {
   "cell_type": "markdown",
   "metadata": {
    "pycharm": {}
   },
   "source": [
    "## Comparing Average Sentence Length\n",
    "\n",
    "In order to calculate the change between the average sentence lengths of two `TextSamples` we're going to use the formula for the percent difference.\n",
    "\n",
    "Write a function called `percent_difference` that returns the percent difference as calculated from the following formula:\n",
    "\n",
    "$$\\frac{|\\ value1 - value2\\ |}{\\frac{value1 + value2}{2}}$$\n",
    "\n",
    "In the numerator is the absolute value (use `abs()`) of the two values subtracted from each other. In the denominator is the average of the two values (value1 + value2 divided by two)."
   ]
  },
  {
   "cell_type": "code",
   "execution_count": 31,
   "metadata": {
    "pycharm": {
     "is_executing": false
    }
   },
   "outputs": [
    {
     "name": "stdout",
     "text": [
      "Average Sentence Length (words) Percent Similarity:\n1.0\n0.06304222093695788\n0.6716031099592744\n0.9646425826287471\n"
     ],
     "output_type": "stream"
    }
   ],
   "source": [
    "\n",
    "#New function for calculating the percent difference \n",
    "def percent_difference(sample1, sample2): \n",
    "    v1 = sample1.average_sentence_length\n",
    "    v2 = sample2.average_sentence_length\n",
    "\n",
    "    #Calculate and return according to the formula (v1 - v2) / ((v1 + v2)/2)\n",
    "    return abs(v1 - v2) / ((v1 + v2)/2)\n",
    "def percent_difference_characters(sample1, sample2):\n",
    "    v1 = sample1.average_sentence_length_by_characters\n",
    "    v2 = sample2.average_sentence_length_by_characters\n",
    "\n",
    "    #Calculate and return\n",
    "    return abs(v1 - v2) / ((v1 + v2)/2)\n",
    "\n",
    "#Output\n",
    "print(\"Average Sentence Length (words) Percent Similarity:\")\n",
    "print(abs(1 - percent_difference(murderer_sample, murderer_sample)))\n",
    "print(abs(1 - percent_difference(murderer_sample, lily_sample)))\n",
    "print(abs(1 - percent_difference(murderer_sample, myrtle_sample)))\n",
    "print(abs(1 - percent_difference(murderer_sample, gregg_sample)))\n"
   ]
  },
  {
   "cell_type": "markdown",
   "metadata": {
    "pycharm": {}
   },
   "source": [
    "## Scoring Similarity with All Three Indicators\n",
    "\n",
    "We want to figure out who did it, so let's use all three of the indicators we built to score text similarity. Define a function `find_text_similarity` that takes two `TextSample` arguments and returns a float between 0 and 1 where 0 means completely different and 1 means the same exact sample. You can evaluate the similarity by the following criteria:\n",
    "\n",
    "- Calculate the percent difference of their average sentence length using `percent_difference`. Save that into a variable called `sentence_length_difference`. Since we want to find how _similar_ the two passages are calculate the inverse of `sentence_length_difference` by using the formula `abs(1 - sentence_length_difference)`. Save that into a variable called `sentence_length_similarity`.\n",
    "- Calculate the difference between their word usage using `frequency_comparison` on both `TextSample`'s `word_count_frequency` attributes. Save that into a variable called `word_count_similarity`.\n",
    "- Calculate the difference between their two-word ngram using `frequency_comparison` on both `TextSample`'s `ngram_frequency` attributes. Save that into a variable called `ngram_similarity`.\n",
    "- Add all three similarities together and divide by 3."
   ]
  },
  {
   "cell_type": "code",
   "execution_count": 32,
   "metadata": {
    "pycharm": {
     "is_executing": false
    }
   },
   "outputs": [],
   "source": [
    "\n",
    "def find_text_similarity(sample1, sample2):\n",
    "    sentence_length_difference = percent_difference(sample1, sample2)\n",
    "    sentence_length_similarity = abs(1 - sentence_length_difference)\n",
    "    word_count_similarity = frequency_comparison(sample1.word_count_frequency, sample2.word_count_frequency)\n",
    "    ngram_similarity = frequency_comparison(sample1.ngram_frequency, sample2.ngram_frequency)\n",
    "\n",
    "    return (sentence_length_similarity + word_count_similarity + ngram_similarity) / 3\n",
    "\n",
    "#Output \n"
   ]
  },
  {
   "cell_type": "markdown",
   "metadata": {
    "pycharm": {}
   },
   "source": [
    "## Rendering the Results\n",
    "\n",
    "We want to print out the results in a way that we can read! For each contestant on _A Brand New Jay_ print out the following:\n",
    "\n",
    "- Their name\n",
    "- Their similarity score to the murder letter"
   ]
  },
  {
   "cell_type": "code",
   "execution_count": 33,
   "metadata": {
    "pycharm": {
     "is_executing": false
    },
    "scrolled": false
   },
   "outputs": [
    {
     "name": "stdout",
     "text": [
      "Text Similarity Score to Murder Note:\nMurder Note: 1.0\nMyrtle Beech: 0.08022675114938956\nLily Trebuchet: 0.3202063002470752\nGregg T Fishy: 0.3821367876934649\n"
     ],
     "output_type": "stream"
    }
   ],
   "source": [
    "\n",
    "#Output \n",
    "print(\"Text Similarity Score to Murder Note:\")\n",
    "print(\"{author}: {similarity}\".format(author=\"Murder Note\", similarity=find_text_similarity(murderer_sample, murderer_sample)))\n",
    "print(\"{author}: {similarity}\".format(author=lily_sample.author, similarity=find_text_similarity(murderer_sample, lily_sample)))\n",
    "print(\"{author}: {similarity}\".format(author=myrtle_sample.author, similarity=find_text_similarity(murderer_sample, myrtle_sample)))\n",
    "print(\"{author}: {similarity}\".format(author=gregg_sample.author, similarity=find_text_similarity(murderer_sample, gregg_sample)))\n"
   ]
  },
  {
   "cell_type": "markdown",
   "metadata": {
    "pycharm": {}
   },
   "source": [
    "# Who Dunnit?\n",
    "\n",
    "In the cell below, print the name of the person who killed Jay Stacksby."
   ]
  },
  {
   "cell_type": "code",
   "execution_count": 33,
   "metadata": {
    "pycharm": {
     "is_executing": false
    }
   },
   "outputs": [
    {
     "name": "stdout",
     "text": [
      "\nGregg T Fishyis appears to be the Murder, with the highest score of 0.3821367876934649!\n"
     ],
     "output_type": "stream"
    }
   ],
   "source": [
    "\n",
    "#Output\n",
    "print()\n",
    "print(\"Gregg T Fishyis appears to be the Murder, with the highest score of 0.3821367876934649!\")"
   ]
  }
 ],
 "metadata": {
  "kernelspec": {
   "display_name": "Python 3",
   "language": "python",
   "name": "python3"
  },
  "language_info": {
   "codemirror_mode": {
    "name": "ipython",
    "version": 3
   },
   "file_extension": ".py",
   "mimetype": "text/x-python",
   "name": "python",
   "nbconvert_exporter": "python",
   "pygments_lexer": "ipython3",
   "version": "3.7.2"
  },
  "pycharm": {
   "stem_cell": {
    "cell_type": "raw",
    "source": [],
    "metadata": {
     "collapsed": false
    }
   }
  }
 },
 "nbformat": 4,
 "nbformat_minor": 2
}